{
 "cells": [
  {
   "cell_type": "code",
   "execution_count": 3,
   "metadata": {},
   "outputs": [],
   "source": [
    "import pandas as pd\n",
    "import mysql.connector"
   ]
  },
  {
   "cell_type": "code",
   "execution_count": 4,
   "metadata": {},
   "outputs": [],
   "source": [
    "# připojit k databázi - db object pro referenci na připojení\n",
    "db = mysql.connector.connect(\n",
    "  host=\"localhost\", # server - u nás na PC localhost, jinak např. https://svatky.adresa.info/\n",
    "  user=\"root\", # přihlášení\n",
    "  password=\"root\",\n",
    "  database=\"nase_db\" # výběr schématu/db -> odpovídá sql: use nase_db;\n",
    ")\n",
    "# cursor -> object, přes který provádím sql příkazy pomocí execute\n",
    "cursor = db.cursor()"
   ]
  },
  {
   "cell_type": "code",
   "execution_count": 37,
   "metadata": {},
   "outputs": [],
   "source": [
    "# uživatel si zadá data\n",
    "mesto = input(\"Zadej mesto: \")\n",
    "populace = input(\"Zadej populace: \")\n",
    "zaplavy = input(\"Zadej zaplavy: \")"
   ]
  },
  {
   "cell_type": "code",
   "execution_count": 43,
   "metadata": {},
   "outputs": [
    {
     "name": "stdout",
     "output_type": "stream",
     "text": [
      "Úspěch\n"
     ]
    }
   ],
   "source": [
    "# query na zapsání dat -> odladit ve workbenchy\n",
    "sql = f\"INSERT INTO mesta (nazev, populace, zaplavy) VALUES ('{mesto}', {populace}, {zaplavy});\"\n",
    "# zkus zapsat\n",
    "try:\n",
    "  cursor.execute(sql)\n",
    "  db.commit()\n",
    "  print(\"Úspěch\")\n",
    "except:\n",
    "  print(\"Error\")"
   ]
  },
  {
   "cell_type": "code",
   "execution_count": 44,
   "metadata": {},
   "outputs": [],
   "source": [
    "# přečti data z tabulky města\n",
    "sql = f\"SELECT * from mesta;\"\n",
    "cursor.execute(sql)\n",
    "vysledek = cursor.fetchall()"
   ]
  },
  {
   "cell_type": "code",
   "execution_count": 45,
   "metadata": {},
   "outputs": [],
   "source": [
    "# přečti nastavení tabulky -> názvy sloupců, datové typy apod.\n",
    "sql = \"DESCRIBE mesta;\"\n",
    "cursor.execute(sql)\n",
    "informace_sloupce = cursor.fetchall()\n",
    "# extrakce pomocí list comprehension názvu sloupce z metadat\n",
    "nazvy_sloupce = [col[0] for col in informace_sloupce]"
   ]
  },
  {
   "cell_type": "code",
   "execution_count": 46,
   "metadata": {},
   "outputs": [
    {
     "data": {
      "text/html": [
       "<div>\n",
       "<style scoped>\n",
       "    .dataframe tbody tr th:only-of-type {\n",
       "        vertical-align: middle;\n",
       "    }\n",
       "\n",
       "    .dataframe tbody tr th {\n",
       "        vertical-align: top;\n",
       "    }\n",
       "\n",
       "    .dataframe thead th {\n",
       "        text-align: right;\n",
       "    }\n",
       "</style>\n",
       "<table border=\"1\" class=\"dataframe\">\n",
       "  <thead>\n",
       "    <tr style=\"text-align: right;\">\n",
       "      <th></th>\n",
       "      <th>nazev</th>\n",
       "      <th>populace</th>\n",
       "      <th>zaplavy</th>\n",
       "    </tr>\n",
       "    <tr>\n",
       "      <th>id</th>\n",
       "      <th></th>\n",
       "      <th></th>\n",
       "      <th></th>\n",
       "    </tr>\n",
       "  </thead>\n",
       "  <tbody>\n",
       "    <tr>\n",
       "      <th>1</th>\n",
       "      <td>Krnov</td>\n",
       "      <td>24000</td>\n",
       "      <td>1</td>\n",
       "    </tr>\n",
       "    <tr>\n",
       "      <th>2</th>\n",
       "      <td>Opava</td>\n",
       "      <td>80000</td>\n",
       "      <td>1</td>\n",
       "    </tr>\n",
       "    <tr>\n",
       "      <th>4</th>\n",
       "      <td>Havířov</td>\n",
       "      <td>90000</td>\n",
       "      <td>1</td>\n",
       "    </tr>\n",
       "    <tr>\n",
       "      <th>5</th>\n",
       "      <td>Test</td>\n",
       "      <td>10000</td>\n",
       "      <td>0</td>\n",
       "    </tr>\n",
       "    <tr>\n",
       "      <th>6</th>\n",
       "      <td>Test</td>\n",
       "      <td>10000</td>\n",
       "      <td>0</td>\n",
       "    </tr>\n",
       "    <tr>\n",
       "      <th>7</th>\n",
       "      <td>Prachatice</td>\n",
       "      <td>20000</td>\n",
       "      <td>0</td>\n",
       "    </tr>\n",
       "    <tr>\n",
       "      <th>8</th>\n",
       "      <td>Karlovice</td>\n",
       "      <td>3000</td>\n",
       "      <td>1</td>\n",
       "    </tr>\n",
       "    <tr>\n",
       "      <th>9</th>\n",
       "      <td>Karlovice</td>\n",
       "      <td>3000</td>\n",
       "      <td>1</td>\n",
       "    </tr>\n",
       "  </tbody>\n",
       "</table>\n",
       "</div>"
      ],
      "text/plain": [
       "         nazev  populace  zaplavy\n",
       "id                               \n",
       "1        Krnov     24000        1\n",
       "2        Opava     80000        1\n",
       "4      Havířov     90000        1\n",
       "5         Test     10000        0\n",
       "6         Test     10000        0\n",
       "7   Prachatice     20000        0\n",
       "8    Karlovice      3000        1\n",
       "9    Karlovice      3000        1"
      ]
     },
     "execution_count": 46,
     "metadata": {},
     "output_type": "execute_result"
    }
   ],
   "source": [
    "# zpracuj výsledky -> názvy sloupců z sql describe a data z sql select\n",
    "tabulka = pd.DataFrame.from_records(vysledek, columns=nazvy_sloupce, index=\"id\")\n",
    "tabulka"
   ]
  },
  {
   "cell_type": "code",
   "execution_count": 7,
   "metadata": {},
   "outputs": [],
   "source": [
    "sql = \"\"\"select clients.first_name, clients.last_name, \n",
    "avg(bookings.total_amount) as 'Average_reservations_price', \n",
    "count(bookings.car_id) as 'Number_of_rented_cars'\n",
    "from bookings\n",
    "left join clients on\n",
    "bookings.client_id=clients.client_id\n",
    "group by bookings.client_id\n",
    "having Number_of_rented_cars > 1\n",
    "order by Number_of_rented_cars desc;\n",
    "\"\"\""
   ]
  },
  {
   "cell_type": "code",
   "execution_count": 9,
   "metadata": {},
   "outputs": [],
   "source": [
    "# připojit k databázi - db object pro referenci na připojení\n",
    "db = mysql.connector.connect(\n",
    "  host=\"localhost\", # server - u nás na PC localhost, jinak např. https://svatky.adresa.info/\n",
    "  user=\"root\", # přihlášení\n",
    "  password=\"root\",\n",
    "  database=\"car_rental\" # výběr schématu/db -> odpovídá sql: use nase_db;\n",
    ")\n",
    "# cursor -> object, přes který provádím sql příkazy pomocí execute\n",
    "cursor = db.cursor()"
   ]
  },
  {
   "cell_type": "code",
   "execution_count": 11,
   "metadata": {},
   "outputs": [
    {
     "name": "stderr",
     "output_type": "stream",
     "text": [
      "C:\\Users\\cejs0\\AppData\\Local\\Temp\\ipykernel_3940\\2738496064.py:1: UserWarning: pandas only supports SQLAlchemy connectable (engine/connection) or database string URI or sqlite3 DBAPI2 connection. Other DBAPI2 objects are not tested. Please consider using SQLAlchemy.\n",
      "  pd.read_sql(sql, db)\n"
     ]
    },
    {
     "data": {
      "text/html": [
       "<div>\n",
       "<style scoped>\n",
       "    .dataframe tbody tr th:only-of-type {\n",
       "        vertical-align: middle;\n",
       "    }\n",
       "\n",
       "    .dataframe tbody tr th {\n",
       "        vertical-align: top;\n",
       "    }\n",
       "\n",
       "    .dataframe thead th {\n",
       "        text-align: right;\n",
       "    }\n",
       "</style>\n",
       "<table border=\"1\" class=\"dataframe\">\n",
       "  <thead>\n",
       "    <tr style=\"text-align: right;\">\n",
       "      <th></th>\n",
       "      <th>first_name</th>\n",
       "      <th>last_name</th>\n",
       "      <th>Average_reservations_price</th>\n",
       "      <th>Number_of_rented_cars</th>\n",
       "    </tr>\n",
       "  </thead>\n",
       "  <tbody>\n",
       "    <tr>\n",
       "      <th>0</th>\n",
       "      <td>Anna</td>\n",
       "      <td>Inna</td>\n",
       "      <td>448.0</td>\n",
       "      <td>5</td>\n",
       "    </tr>\n",
       "    <tr>\n",
       "      <th>1</th>\n",
       "      <td>Damian</td>\n",
       "      <td>Papa</td>\n",
       "      <td>780.0</td>\n",
       "      <td>4</td>\n",
       "    </tr>\n",
       "    <tr>\n",
       "      <th>2</th>\n",
       "      <td>Marek</td>\n",
       "      <td>Troska</td>\n",
       "      <td>1400.0</td>\n",
       "      <td>2</td>\n",
       "    </tr>\n",
       "  </tbody>\n",
       "</table>\n",
       "</div>"
      ],
      "text/plain": [
       "  first_name last_name  Average_reservations_price  Number_of_rented_cars\n",
       "0       Anna      Inna                       448.0                      5\n",
       "1     Damian      Papa                       780.0                      4\n",
       "2      Marek    Troska                      1400.0                      2"
      ]
     },
     "execution_count": 11,
     "metadata": {},
     "output_type": "execute_result"
    }
   ],
   "source": [
    "pd.read_sql(sql, db)"
   ]
  },
  {
   "cell_type": "code",
   "execution_count": null,
   "metadata": {},
   "outputs": [],
   "source": []
  }
 ],
 "metadata": {
  "kernelspec": {
   "display_name": "nase_prostredi",
   "language": "python",
   "name": "python3"
  },
  "language_info": {
   "codemirror_mode": {
    "name": "ipython",
    "version": 3
   },
   "file_extension": ".py",
   "mimetype": "text/x-python",
   "name": "python",
   "nbconvert_exporter": "python",
   "pygments_lexer": "ipython3",
   "version": "3.10.11"
  }
 },
 "nbformat": 4,
 "nbformat_minor": 2
}
