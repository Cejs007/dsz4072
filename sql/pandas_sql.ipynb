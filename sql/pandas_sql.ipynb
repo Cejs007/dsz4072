{
 "cells": [
  {
   "cell_type": "code",
   "execution_count": 1,
   "metadata": {},
   "outputs": [],
   "source": [
    "import pandas as pd\n",
    "import mysql.connector"
   ]
  },
  {
   "cell_type": "code",
   "execution_count": 2,
   "metadata": {},
   "outputs": [],
   "source": [
    "# připojit k databázi - db object pro referenci na připojení\n",
    "db = mysql.connector.connect(\n",
    "  host=\"localhost\", # server - u nás na PC localhost, jinak např. https://svatky.adresa.info/\n",
    "  user=\"root\", # přihlášení\n",
    "  password=\"root\",\n",
    "  database=\"car_rental\" # výběr schématu/db -> odpovídá sql: use nase_db;\n",
    ")\n",
    "# cursor -> object, přes který provádím sql příkazy pomocí execute\n",
    "cursor = db.cursor()"
   ]
  },
  {
   "cell_type": "code",
   "execution_count": 3,
   "metadata": {},
   "outputs": [],
   "source": [
    "sql = \"\"\"select clients.first_name, clients.last_name, \n",
    "avg(bookings.total_amount) as 'Average_reservations_price', \n",
    "count(bookings.car_id) as 'Number_of_rented_cars'\n",
    "from bookings\n",
    "left join clients on\n",
    "bookings.client_id=clients.client_id\n",
    "group by bookings.client_id\n",
    "having Number_of_rented_cars > 1\n",
    "order by Number_of_rented_cars desc;\n",
    "\"\"\""
   ]
  },
  {
   "cell_type": "code",
   "execution_count": 4,
   "metadata": {},
   "outputs": [
    {
     "name": "stderr",
     "output_type": "stream",
     "text": [
      "C:\\Users\\cejs0\\AppData\\Local\\Temp\\ipykernel_10940\\1114324069.py:1: UserWarning: pandas only supports SQLAlchemy connectable (engine/connection) or database string URI or sqlite3 DBAPI2 connection. Other DBAPI2 objects are not tested. Please consider using SQLAlchemy.\n",
      "  tabulka = pd.read_sql(sql, db)\n"
     ]
    },
    {
     "data": {
      "text/html": [
       "<div>\n",
       "<style scoped>\n",
       "    .dataframe tbody tr th:only-of-type {\n",
       "        vertical-align: middle;\n",
       "    }\n",
       "\n",
       "    .dataframe tbody tr th {\n",
       "        vertical-align: top;\n",
       "    }\n",
       "\n",
       "    .dataframe thead th {\n",
       "        text-align: right;\n",
       "    }\n",
       "</style>\n",
       "<table border=\"1\" class=\"dataframe\">\n",
       "  <thead>\n",
       "    <tr style=\"text-align: right;\">\n",
       "      <th></th>\n",
       "      <th>first_name</th>\n",
       "      <th>last_name</th>\n",
       "      <th>Average_reservations_price</th>\n",
       "      <th>Number_of_rented_cars</th>\n",
       "    </tr>\n",
       "  </thead>\n",
       "  <tbody>\n",
       "    <tr>\n",
       "      <th>0</th>\n",
       "      <td>Anna</td>\n",
       "      <td>Inna</td>\n",
       "      <td>448.0</td>\n",
       "      <td>5</td>\n",
       "    </tr>\n",
       "    <tr>\n",
       "      <th>1</th>\n",
       "      <td>Damian</td>\n",
       "      <td>Papa</td>\n",
       "      <td>780.0</td>\n",
       "      <td>4</td>\n",
       "    </tr>\n",
       "    <tr>\n",
       "      <th>2</th>\n",
       "      <td>Marek</td>\n",
       "      <td>Troska</td>\n",
       "      <td>1400.0</td>\n",
       "      <td>2</td>\n",
       "    </tr>\n",
       "  </tbody>\n",
       "</table>\n",
       "</div>"
      ],
      "text/plain": [
       "  first_name last_name  Average_reservations_price  Number_of_rented_cars\n",
       "0       Anna      Inna                       448.0                      5\n",
       "1     Damian      Papa                       780.0                      4\n",
       "2      Marek    Troska                      1400.0                      2"
      ]
     },
     "execution_count": 4,
     "metadata": {},
     "output_type": "execute_result"
    }
   ],
   "source": [
    "tabulka = pd.read_sql(sql, db)\n",
    "tabulka"
   ]
  }
 ],
 "metadata": {
  "kernelspec": {
   "display_name": "nase_prostredi",
   "language": "python",
   "name": "python3"
  },
  "language_info": {
   "codemirror_mode": {
    "name": "ipython",
    "version": 3
   },
   "file_extension": ".py",
   "mimetype": "text/x-python",
   "name": "python",
   "nbconvert_exporter": "python",
   "pygments_lexer": "ipython3",
   "version": "3.10.11"
  }
 },
 "nbformat": 4,
 "nbformat_minor": 2
}
