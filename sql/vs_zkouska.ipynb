{
 "cells": [
  {
   "cell_type": "code",
   "execution_count": 1,
   "metadata": {},
   "outputs": [],
   "source": [
    "import pandas as pd\n",
    "import mysql.connector"
   ]
  },
  {
   "cell_type": "code",
   "execution_count": 2,
   "metadata": {},
   "outputs": [],
   "source": [
    "# připojit k databázi - db object pro referenci na připojení\n",
    "db = mysql.connector.connect(\n",
    "  host=\"localhost\", # server - u nás na PC localhost, jinak např. https://svatky.adresa.info/\n",
    "  user=\"root\", # přihlášení\n",
    "  password=\"root\",\n",
    "  database=\"vs_zkouska\" # výběr schématu/db -> odpovídá sql: use nase_db;\n",
    ")\n",
    "# cursor -> object, přes který provádím sql příkazy pomocí execute\n",
    "cursor = db.cursor()"
   ]
  },
  {
   "cell_type": "code",
   "execution_count": 3,
   "metadata": {},
   "outputs": [],
   "source": [
    "sql = f\"show columns from student;\"\n",
    "cursor.execute(sql)\n",
    "vysledek = cursor.fetchall()"
   ]
  },
  {
   "cell_type": "code",
   "execution_count": 4,
   "metadata": {},
   "outputs": [
    {
     "data": {
      "text/plain": [
       "[('idstudent', 'int', 'NO', 'PRI', None, 'auto_increment'),\n",
       " ('jmeno', 'varchar(45)', 'NO', '', None, ''),\n",
       " ('prijmeni', 'varchar(45)', 'NO', '', None, ''),\n",
       " ('vek', 'int', 'NO', '', None, '')]"
      ]
     },
     "execution_count": 4,
     "metadata": {},
     "output_type": "execute_result"
    }
   ],
   "source": [
    "vysledek"
   ]
  },
  {
   "cell_type": "markdown",
   "metadata": {},
   "source": [
    "### Naplnit daty"
   ]
  },
  {
   "cell_type": "code",
   "execution_count": 11,
   "metadata": {},
   "outputs": [],
   "source": [
    "from faker import Faker\n",
    "from random import randint"
   ]
  },
  {
   "cell_type": "code",
   "execution_count": 23,
   "metadata": {},
   "outputs": [],
   "source": [
    "fake = Faker()\n",
    "kolik = 100\n",
    "lide = []\n",
    "for i in range(kolik):\n",
    "    full_name = fake.name()\n",
    "    jmeno = full_name.split(\" \")[0]\n",
    "    prijmeni = full_name.split(\" \")[-1]\n",
    "    vek = randint(19, 28)\n",
    "    lide.append([jmeno, prijmeni, vek])"
   ]
  },
  {
   "cell_type": "code",
   "execution_count": 27,
   "metadata": {},
   "outputs": [],
   "source": [
    "def vygeneruj_nahodne_lidi(pocet, vek_od=18, vek_do=28):\n",
    "    \"\"\"\n",
    "    vezme na vstupu počet lidí k vygenerování a vrátí list, kde jednotlivé prvky jsou listy se 3 hodnotami\n",
    "    a to jméno, příjmení a věk\n",
    "    \"\"\"\n",
    "    # z knihovny faker vytvoř generátor náhodných lidí\n",
    "    fake = Faker()\n",
    "    # list pro ukládání lidí\n",
    "    lide = []\n",
    "    # zopakuj pocet krát generování člověka\n",
    "    for i in range(pocet):\n",
    "        # dej mi plné jméno náhodného člověka\n",
    "        full_name = fake.name()\n",
    "        # plné jméno je ve formátu 'jmeno prijmeni' -> rozděl text podle mezery, kdy první hodnota je jméno a druhá příjmení\n",
    "        jmeno = full_name.split(\" \")[0]\n",
    "        prijmeni = full_name.split(\" \")[-1]\n",
    "        # vygeneruj náhodný věk\n",
    "        vek = randint(vek_od, vek_do)\n",
    "        # přidej do listu lidé všechny informace jako list\n",
    "        lide.append([jmeno, prijmeni, vek])\n",
    "    return lide"
   ]
  },
  {
   "cell_type": "code",
   "execution_count": 28,
   "metadata": {},
   "outputs": [
    {
     "data": {
      "text/plain": [
       "[['Daniel', 'Fletcher', 81],\n",
       " ['Krista', 'Kelley', 82],\n",
       " ['Hailey', 'Alvarado', 82],\n",
       " ['Mary', 'Garcia', 84],\n",
       " ['Alexander', 'Drake', 83]]"
      ]
     },
     "execution_count": 28,
     "metadata": {},
     "output_type": "execute_result"
    }
   ],
   "source": [
    "vygeneruj_nahodne_lidi(5, 80, 90)"
   ]
  },
  {
   "cell_type": "code",
   "execution_count": null,
   "metadata": {},
   "outputs": [],
   "source": []
  }
 ],
 "metadata": {
  "kernelspec": {
   "display_name": "nase_prostredi",
   "language": "python",
   "name": "python3"
  },
  "language_info": {
   "codemirror_mode": {
    "name": "ipython",
    "version": 3
   },
   "file_extension": ".py",
   "mimetype": "text/x-python",
   "name": "python",
   "nbconvert_exporter": "python",
   "pygments_lexer": "ipython3",
   "version": "3.10.11"
  }
 },
 "nbformat": 4,
 "nbformat_minor": 2
}
