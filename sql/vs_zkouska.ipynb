{
 "cells": [
  {
   "cell_type": "code",
   "execution_count": 1,
   "metadata": {},
   "outputs": [],
   "source": [
    "import pandas as pd\n",
    "import mysql.connector"
   ]
  },
  {
   "cell_type": "code",
   "execution_count": 17,
   "metadata": {},
   "outputs": [],
   "source": [
    "# připojit k databázi - db object pro referenci na připojení\n",
    "db = mysql.connector.connect(\n",
    "  host=\"localhost\", # server - u nás na PC localhost, jinak např. https://svatky.adresa.info/\n",
    "  user=\"root\", # přihlášení\n",
    "  password=\"root\",\n",
    "  database=\"vs_zkouska\" # výběr schématu/db -> odpovídá sql: use nase_db;\n",
    ")\n",
    "# cursor -> object, přes který provádím sql příkazy pomocí execute\n",
    "cursor = db.cursor()"
   ]
  },
  {
   "cell_type": "code",
   "execution_count": 18,
   "metadata": {},
   "outputs": [],
   "source": [
    "sql = f\"show columns from student;\"\n",
    "cursor.execute(sql)\n",
    "vysledek = cursor.fetchall()"
   ]
  },
  {
   "cell_type": "code",
   "execution_count": 19,
   "metadata": {},
   "outputs": [
    {
     "data": {
      "text/plain": [
       "[('idstudent', 'int', 'NO', 'PRI', None, 'auto_increment'),\n",
       " ('jmeno', 'varchar(45)', 'NO', '', None, ''),\n",
       " ('prijmeni', 'varchar(45)', 'NO', '', None, ''),\n",
       " ('vek', 'int', 'NO', '', None, '')]"
      ]
     },
     "execution_count": 19,
     "metadata": {},
     "output_type": "execute_result"
    }
   ],
   "source": [
    "vysledek"
   ]
  },
  {
   "cell_type": "markdown",
   "metadata": {},
   "source": [
    "### Naplnit daty"
   ]
  },
  {
   "cell_type": "code",
   "execution_count": 5,
   "metadata": {},
   "outputs": [],
   "source": [
    "from faker import Faker\n",
    "from random import randint"
   ]
  },
  {
   "cell_type": "code",
   "execution_count": 6,
   "metadata": {},
   "outputs": [],
   "source": [
    "fake = Faker()\n",
    "kolik = 100\n",
    "lide = []\n",
    "for i in range(kolik):\n",
    "    full_name = fake.name()\n",
    "    jmeno = full_name.split(\" \")[0]\n",
    "    prijmeni = full_name.split(\" \")[-1]\n",
    "    vek = randint(19, 28)\n",
    "    lide.append([jmeno, prijmeni, vek])"
   ]
  },
  {
   "cell_type": "code",
   "execution_count": 10,
   "metadata": {},
   "outputs": [],
   "source": [
    "def vygeneruj_nahodne_lidi(pocet, vek_od=18, vek_do=28):\n",
    "    \"\"\"\n",
    "    vezme na vstupu počet lidí k vygenerování a vrátí list, kde jednotlivé prvky jsou listy se 3 hodnotami\n",
    "    a to jméno, příjmení a věk\n",
    "    \"\"\"\n",
    "    # z knihovny faker vytvoř generátor náhodných lidí\n",
    "    fake = Faker()\n",
    "    # list pro ukládání lidí\n",
    "    lide = []\n",
    "    # zopakuj pocet krát generování člověka\n",
    "    for i in range(pocet):\n",
    "        # dej mi plné jméno náhodného člověka\n",
    "        full_name = fake.name()\n",
    "        # plné jméno je ve formátu 'jmeno prijmeni' -> rozděl text podle mezery, kdy první hodnota je jméno a druhá příjmení\n",
    "        jmeno = full_name.split(\" \")[0]\n",
    "        prijmeni = full_name.split(\" \")[-1]\n",
    "        # vygeneruj náhodný věk\n",
    "        vek = randint(vek_od, vek_do)\n",
    "        # přidej do listu lidé všechny informace jako list\n",
    "        lide.append((jmeno, prijmeni, vek))\n",
    "    return lide"
   ]
  },
  {
   "cell_type": "code",
   "execution_count": null,
   "metadata": {},
   "outputs": [],
   "source": [
    "studenti = tuple(vygeneruj_nahodne_lidi(100))\n",
    "\n",
    "sql = \"INSERT INTO student (jmeno, prijmeni, vek) VALUES \"\n",
    "\n",
    "# constructing sql statment with multiple row values\n",
    "for row in studenti:\n",
    "    sql += \"('{}','{}','{}'),\".format(row[0], row[1], row[2])\n",
    "\n",
    "sql = sql[:-1]\n",
    "\n",
    "try:\n",
    "  cursor.execute(sql)\n",
    "  db.commit()\n",
    "  print(\"Úspěch\")\n",
    "except Exception as error:\n",
    "  print(f\"Error: {error}\")"
   ]
  },
  {
   "cell_type": "code",
   "execution_count": 33,
   "metadata": {},
   "outputs": [
    {
     "name": "stdout",
     "output_type": "stream",
     "text": [
      "Úspěch\n"
     ]
    }
   ],
   "source": [
    "ucitele = tuple(vygeneruj_nahodne_lidi(10, 25, 80))\n",
    "\n",
    "sql = \"INSERT INTO ucitel (jmeno, prijmeni, vek) VALUES \"\n",
    "\n",
    "# constructing sql statment with multiple row values\n",
    "for row in ucitele:\n",
    "    sql += \"('{}','{}','{}'),\".format(row[0], row[1], row[2])\n",
    "\n",
    "sql = sql[:-1]\n",
    "\n",
    "try:\n",
    "  cursor.execute(sql)\n",
    "  db.commit()\n",
    "  print(\"Úspěch\")\n",
    "except Exception as error:\n",
    "  print(f\"Error: {error}\")"
   ]
  },
  {
   "cell_type": "code",
   "execution_count": null,
   "metadata": {},
   "outputs": [],
   "source": [
    "ucitele = tuple(vygeneruj_nahodne_lidi(10, 25, 80))\n",
    "\n",
    "sql = \"INSERT INTO ucitel (jmeno, prijmeni, vek) VALUES \"\n",
    "\n",
    "# constructing sql statment with multiple row values\n",
    "for row in ucitele:\n",
    "    sql += \"('{}','{}','{}'),\".format(row[0], row[1], row[2])\n",
    "\n",
    "sql = sql[:-1]\n",
    "\n",
    "try:\n",
    "  cursor.execute(sql)\n",
    "  db.commit()\n",
    "  print(\"Úspěch\")\n",
    "except Exception as error:\n",
    "  print(f\"Error: {error}\")"
   ]
  },
  {
   "cell_type": "code",
   "execution_count": null,
   "metadata": {},
   "outputs": [],
   "source": [
    "mistnosti = []\n",
    "for i in range(3):\n",
    "    zeme = input(\"Zadej zemi: \")\n",
    "    mesto = input(\"Zadej město: \")\n",
    "    adresa = input(\"Zadej adresu: \")\n",
    "    ucebna = input(\"Zadej název učebny: \")\n",
    "    mistnosti.append((zeme, mesto, adresa, ucebna))"
   ]
  },
  {
   "cell_type": "code",
   "execution_count": 44,
   "metadata": {},
   "outputs": [
    {
     "name": "stdout",
     "output_type": "stream",
     "text": [
      "Úspěch\n"
     ]
    }
   ],
   "source": [
    "sql = \"INSERT INTO misto (zeme, mesto, adresa, ucebna) VALUES \"\n",
    "\n",
    "# constructing sql statment with multiple row values\n",
    "for row in mistnosti:\n",
    "    sql += \"('{}','{}','{}','{}'),\".format(row[0], row[1], row[2], row[3])\n",
    "\n",
    "sql = sql[:-1]\n",
    "\n",
    "try:\n",
    "  cursor.execute(sql)\n",
    "  db.commit()\n",
    "  print(\"Úspěch\")\n",
    "except Exception as error:\n",
    "  print(f\"Error: {error}\")"
   ]
  },
  {
   "cell_type": "code",
   "execution_count": 47,
   "metadata": {},
   "outputs": [
    {
     "data": {
      "text/plain": [
       "[(1,), (2,), (3,), (4,), (5,), (6,), (7,), (8,), (9,), (10,)]"
      ]
     },
     "execution_count": 47,
     "metadata": {},
     "output_type": "execute_result"
    }
   ],
   "source": [
    "sql = f\"select iducitel from ucitel;\"\n",
    "cursor.execute(sql)\n",
    "vysledek = cursor.fetchall()\n",
    "\n",
    "ucitelska_id = [prvek[0] for prvek in vysledek]"
   ]
  },
  {
   "cell_type": "code",
   "execution_count": 53,
   "metadata": {},
   "outputs": [],
   "source": [
    "from random import choice"
   ]
  },
  {
   "cell_type": "code",
   "execution_count": 55,
   "metadata": {},
   "outputs": [],
   "source": [
    "predmety = []\n",
    "for i in range(3):\n",
    "    nazev = input(\"Zadej nazev: \")\n",
    "    obor = input(\"Zadej obor: \")\n",
    "    ucitel_iducitel = choice(ucitelska_id)\n",
    "    predmety.append((nazev, obor, ucitel_iducitel))"
   ]
  },
  {
   "cell_type": "code",
   "execution_count": 57,
   "metadata": {},
   "outputs": [
    {
     "name": "stdout",
     "output_type": "stream",
     "text": [
      "Úspěch\n"
     ]
    }
   ],
   "source": [
    "sql = \"INSERT INTO predmet (nazev, obor, ucitel_iducitel) VALUES \"\n",
    "\n",
    "# constructing sql statment with multiple row values\n",
    "for row in predmety:\n",
    "    sql += \"('{}','{}','{}'),\".format(row[0], row[1], row[2])\n",
    "\n",
    "sql = sql[:-1]\n",
    "\n",
    "try:\n",
    "  cursor.execute(sql)\n",
    "  db.commit()\n",
    "  print(\"Úspěch\")\n",
    "except Exception as error:\n",
    "  print(f\"Error: {error}\")"
   ]
  },
  {
   "cell_type": "code",
   "execution_count": 67,
   "metadata": {},
   "outputs": [],
   "source": [
    "sql = f\"select iducitel from ucitel;\"\n",
    "cursor.execute(sql)\n",
    "vysledek = cursor.fetchall()\n",
    "\n",
    "ucitel_id = [prvek[0] for prvek in vysledek]\n",
    "\n",
    "sql = f\"select idstudent from student;\"\n",
    "cursor.execute(sql)\n",
    "vysledek = cursor.fetchall()\n",
    "\n",
    "student_id = [prvek[0] for prvek in vysledek]\n",
    "\n",
    "sql = f\"select idpredmet from predmet;\"\n",
    "cursor.execute(sql)\n",
    "vysledek = cursor.fetchall()\n",
    "\n",
    "predmet_id = [prvek[0] for prvek in vysledek]\n",
    "\n",
    "sql = f\"select idmisto from misto;\"\n",
    "cursor.execute(sql)\n",
    "vysledek = cursor.fetchall()\n",
    "\n",
    "misto_id = [prvek[0] for prvek in vysledek]"
   ]
  },
  {
   "cell_type": "code",
   "execution_count": 69,
   "metadata": {},
   "outputs": [],
   "source": [
    "zkousky = []\n",
    "for i in range(3):\n",
    "    termin = input(\"Zadej termín ve formátu '2024-10-05': \")\n",
    "    online = input(\"Bude online: \")\n",
    "    ucitel_iducitel = choice(ucitel_id)\n",
    "    misto_idmisto = choice(misto_id)\n",
    "    student_idstudent = choice(student_id)\n",
    "    predmet_idpredmet = choice(predmet_id)\n",
    "    zkousky.append((termin, online, ucitel_iducitel, misto_idmisto, student_idstudent, predmet_idpredmet))"
   ]
  },
  {
   "cell_type": "code",
   "execution_count": 73,
   "metadata": {},
   "outputs": [
    {
     "name": "stdout",
     "output_type": "stream",
     "text": [
      "Úspěch\n"
     ]
    }
   ],
   "source": [
    "sql = \"INSERT INTO zkouska (termin, online, ucitel_iducitel, misto_idmisto, student_idstudent, predmet_idpredmet) VALUES \"\n",
    "\n",
    "# constructing sql statment with multiple row values\n",
    "for row in zkousky:\n",
    "    sql += \"('{}','{}','{}','{}','{}','{}'),\".format(row[0], row[1], row[2], row[3], row[4], row[5])\n",
    "\n",
    "sql = sql[:-1]\n",
    "\n",
    "try:\n",
    "  cursor.execute(sql)\n",
    "  db.commit()\n",
    "  print(\"Úspěch\")\n",
    "except Exception as error:\n",
    "  print(f\"Error: {error}\")"
   ]
  },
  {
   "cell_type": "code",
   "execution_count": 74,
   "metadata": {},
   "outputs": [],
   "source": [
    "sql = f\"select idzkouska from zkouska;\"\n",
    "cursor.execute(sql)\n",
    "vysledek = cursor.fetchall()\n",
    "\n",
    "zkouska_id = [prvek[0] for prvek in vysledek]"
   ]
  },
  {
   "cell_type": "code",
   "execution_count": 76,
   "metadata": {},
   "outputs": [],
   "source": [
    "vysledky = []\n",
    "for i in range(3):\n",
    "    prospel = input(\"Zadej prospel: \")\n",
    "    body = input(\"Zadej body: \")\n",
    "    komentar = input(\"Zadej komentar: \")\n",
    "    zkouska_idzkouska = choice(zkouska_id)\n",
    "    vysledky.append((prospel, body, komentar, zkouska_idzkouska))"
   ]
  },
  {
   "cell_type": "code",
   "execution_count": 79,
   "metadata": {},
   "outputs": [
    {
     "name": "stdout",
     "output_type": "stream",
     "text": [
      "Úspěch\n"
     ]
    }
   ],
   "source": [
    "sql = \"INSERT INTO vysledek (prospel, body, komentar, zkouska_idzkouska) VALUES \"\n",
    "\n",
    "# constructing sql statment with multiple row values\n",
    "for row in vysledky:\n",
    "    sql += \"('{}','{}','{}','{}'),\".format(row[0], row[1], row[2], row[3])\n",
    "\n",
    "sql = sql[:-1]\n",
    "\n",
    "try:\n",
    "  cursor.execute(sql)\n",
    "  db.commit()\n",
    "  print(\"Úspěch\")\n",
    "except Exception as error:\n",
    "  print(f\"Error: {error}\")"
   ]
  }
 ],
 "metadata": {
  "kernelspec": {
   "display_name": "nase_prostredi",
   "language": "python",
   "name": "python3"
  },
  "language_info": {
   "codemirror_mode": {
    "name": "ipython",
    "version": 3
   },
   "file_extension": ".py",
   "mimetype": "text/x-python",
   "name": "python",
   "nbconvert_exporter": "python",
   "pygments_lexer": "ipython3",
   "version": "3.10.11"
  }
 },
 "nbformat": 4,
 "nbformat_minor": 2
}
