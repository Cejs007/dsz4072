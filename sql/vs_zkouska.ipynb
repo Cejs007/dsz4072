{
 "cells": [
  {
   "cell_type": "code",
   "execution_count": 1,
   "metadata": {},
   "outputs": [],
   "source": [
    "import pandas as pd\n",
    "import mysql.connector"
   ]
  },
  {
   "cell_type": "code",
   "execution_count": 17,
   "metadata": {},
   "outputs": [],
   "source": [
    "# připojit k databázi - db object pro referenci na připojení\n",
    "db = mysql.connector.connect(\n",
    "  host=\"localhost\", # server - u nás na PC localhost, jinak např. https://svatky.adresa.info/\n",
    "  user=\"root\", # přihlášení\n",
    "  password=\"root\",\n",
    "  database=\"vs_zkouska\" # výběr schématu/db -> odpovídá sql: use nase_db;\n",
    ")\n",
    "# cursor -> object, přes který provádím sql příkazy pomocí execute\n",
    "cursor = db.cursor()"
   ]
  },
  {
   "cell_type": "code",
   "execution_count": 18,
   "metadata": {},
   "outputs": [],
   "source": [
    "sql = f\"show columns from student;\"\n",
    "cursor.execute(sql)\n",
    "vysledek = cursor.fetchall()"
   ]
  },
  {
   "cell_type": "code",
   "execution_count": 19,
   "metadata": {},
   "outputs": [
    {
     "data": {
      "text/plain": [
       "[('idstudent', 'int', 'NO', 'PRI', None, 'auto_increment'),\n",
       " ('jmeno', 'varchar(45)', 'NO', '', None, ''),\n",
       " ('prijmeni', 'varchar(45)', 'NO', '', None, ''),\n",
       " ('vek', 'int', 'NO', '', None, '')]"
      ]
     },
     "execution_count": 19,
     "metadata": {},
     "output_type": "execute_result"
    }
   ],
   "source": [
    "vysledek"
   ]
  },
  {
   "cell_type": "markdown",
   "metadata": {},
   "source": [
    "### Naplnit daty"
   ]
  },
  {
   "cell_type": "code",
   "execution_count": 5,
   "metadata": {},
   "outputs": [],
   "source": [
    "from faker import Faker\n",
    "from random import randint"
   ]
  },
  {
   "cell_type": "code",
   "execution_count": 6,
   "metadata": {},
   "outputs": [],
   "source": [
    "fake = Faker()\n",
    "kolik = 100\n",
    "lide = []\n",
    "for i in range(kolik):\n",
    "    full_name = fake.name()\n",
    "    jmeno = full_name.split(\" \")[0]\n",
    "    prijmeni = full_name.split(\" \")[-1]\n",
    "    vek = randint(19, 28)\n",
    "    lide.append([jmeno, prijmeni, vek])"
   ]
  },
  {
   "cell_type": "code",
   "execution_count": 10,
   "metadata": {},
   "outputs": [],
   "source": [
    "def vygeneruj_nahodne_lidi(pocet, vek_od=18, vek_do=28):\n",
    "    \"\"\"\n",
    "    vezme na vstupu počet lidí k vygenerování a vrátí list, kde jednotlivé prvky jsou listy se 3 hodnotami\n",
    "    a to jméno, příjmení a věk\n",
    "    \"\"\"\n",
    "    # z knihovny faker vytvoř generátor náhodných lidí\n",
    "    fake = Faker()\n",
    "    # list pro ukládání lidí\n",
    "    lide = []\n",
    "    # zopakuj pocet krát generování člověka\n",
    "    for i in range(pocet):\n",
    "        # dej mi plné jméno náhodného člověka\n",
    "        full_name = fake.name()\n",
    "        # plné jméno je ve formátu 'jmeno prijmeni' -> rozděl text podle mezery, kdy první hodnota je jméno a druhá příjmení\n",
    "        jmeno = full_name.split(\" \")[0]\n",
    "        prijmeni = full_name.split(\" \")[-1]\n",
    "        # vygeneruj náhodný věk\n",
    "        vek = randint(vek_od, vek_do)\n",
    "        # přidej do listu lidé všechny informace jako list\n",
    "        lide.append((jmeno, prijmeni, vek))\n",
    "    return lide"
   ]
  },
  {
   "cell_type": "code",
   "execution_count": 11,
   "metadata": {},
   "outputs": [
    {
     "data": {
      "text/plain": [
       "(('John', 'Bradford', 19),\n",
       " ('Kelly', 'Cooper', 21),\n",
       " ('Elizabeth', 'Gonzalez', 24),\n",
       " ('David', 'Smith', 23),\n",
       " ('Abigail', 'Fowler', 25),\n",
       " ('Renee', 'Burns', 22),\n",
       " ('Jessica', 'James', 24),\n",
       " ('Sierra', 'Olsen', 24),\n",
       " ('Margaret', 'Stevens', 21),\n",
       " ('Elizabeth', 'Mckenzie', 22),\n",
       " ('Michael', 'Henderson', 24),\n",
       " ('Joseph', 'Perez', 22),\n",
       " ('Eric', 'Fernandez', 24),\n",
       " ('Laura', 'Poole', 19),\n",
       " ('Jennifer', 'Simmons', 22),\n",
       " ('Beth', 'Mcdaniel', 25),\n",
       " ('Stephanie', 'Sexton', 19),\n",
       " ('Leslie', 'Mitchell', 28),\n",
       " ('Samantha', 'Simon', 20),\n",
       " ('Natalie', 'Flores', 28),\n",
       " ('Christina', 'Singleton', 20),\n",
       " ('Angel', 'Brooks', 19),\n",
       " ('Charles', 'Gould', 21),\n",
       " ('John', 'Terrell', 19),\n",
       " ('Justin', 'Flores', 22),\n",
       " ('Alejandro', 'Jimenez', 26),\n",
       " ('Charles', 'Miller', 19),\n",
       " ('Amanda', 'Hernandez', 24),\n",
       " ('Christopher', 'Clayton', 21),\n",
       " ('Jennifer', 'Smith', 26),\n",
       " ('Jennifer', 'Riley', 20),\n",
       " ('Denise', 'Fleming', 25),\n",
       " ('Brandon', 'Dunn', 28),\n",
       " ('Caitlin', 'Keller', 18),\n",
       " ('Robert', 'Benjamin', 18),\n",
       " ('Linda', 'Simon', 21),\n",
       " ('Cindy', 'Rowland', 19),\n",
       " ('Adam', 'Barnett', 18),\n",
       " ('Leslie', 'Griffith', 27),\n",
       " ('Eugene', 'Harris', 20),\n",
       " ('Logan', 'Bishop', 28),\n",
       " ('Olivia', 'Stewart', 28),\n",
       " ('Haley', 'MD', 21),\n",
       " ('Brandon', 'Clark', 28),\n",
       " ('Dwayne', 'Li', 24),\n",
       " ('Anthony', 'Lambert', 18),\n",
       " ('John', 'Scott', 21),\n",
       " ('David', 'Mullins', 20),\n",
       " ('Amanda', 'Sanders', 23),\n",
       " ('Dr.', 'Taylor', 22),\n",
       " ('Beth', 'Carlson', 24),\n",
       " ('Michael', 'Blevins', 18),\n",
       " ('Ariel', 'Davies', 22),\n",
       " ('Samantha', 'Hughes', 20),\n",
       " ('Elizabeth', 'Rodriguez', 19),\n",
       " ('Howard', 'Gonzalez', 28),\n",
       " ('Patricia', 'MD', 28),\n",
       " ('Adrian', 'Gomez', 20),\n",
       " ('Megan', 'Hopkins', 26),\n",
       " ('Megan', 'Pittman', 19),\n",
       " ('Tammy', 'Jones', 28),\n",
       " ('James', 'Brown', 21),\n",
       " ('Michael', 'Williams', 22),\n",
       " ('David', 'Schroeder', 18),\n",
       " ('Dr.', 'Schwartz', 22),\n",
       " ('Christian', 'Avila', 20),\n",
       " ('Jessica', 'Hart', 25),\n",
       " ('Robert', 'Hamilton', 22),\n",
       " ('Miguel', 'Spencer', 22),\n",
       " ('Nicole', 'Owens', 26),\n",
       " ('Charles', 'Lopez', 21),\n",
       " ('David', 'Holland', 23),\n",
       " ('James', 'Watkins', 21),\n",
       " ('Joan', 'Barnett', 23),\n",
       " ('Samantha', 'Lambert', 23),\n",
       " ('Heather', 'Lawson', 19),\n",
       " ('Jonathan', 'Barajas', 26),\n",
       " ('Patrick', 'Castillo', 19),\n",
       " ('Thomas', 'Robinson', 21),\n",
       " ('Brittany', 'Brown', 23),\n",
       " ('Richard', 'Boyd', 23),\n",
       " ('Jeffery', 'Hunter', 23),\n",
       " ('Kristina', 'Davis', 19),\n",
       " ('Edward', 'Anderson', 25),\n",
       " ('Sophia', 'Pierce', 25),\n",
       " ('Sheena', 'Guzman', 27),\n",
       " ('Stephanie', 'Brewer', 27),\n",
       " ('Jeffrey', 'Morgan', 28),\n",
       " ('Victoria', 'Castro', 21),\n",
       " ('Jason', 'Johns', 18),\n",
       " ('Daniel', 'Smith', 23),\n",
       " ('Spencer', 'Jackson', 25),\n",
       " ('Katie', 'Ward', 28),\n",
       " ('Matthew', 'Huber', 18),\n",
       " ('Jonathan', 'Marsh', 24),\n",
       " ('Garrett', 'Wheeler', 25),\n",
       " ('Lisa', 'Ortiz', 19),\n",
       " ('Joshua', 'Nelson', 27),\n",
       " ('Sara', 'Gutierrez', 20),\n",
       " ('Mark', 'Reyes', 28))"
      ]
     },
     "execution_count": 11,
     "metadata": {},
     "output_type": "execute_result"
    }
   ],
   "source": [
    "studenti = tuple(vygeneruj_nahodne_lidi(100))\n",
    "\n",
    "sql = \"INSERT INTO student (jmeno, prijmeni, vek) VALUES \"\n",
    "\n",
    "# constructing sql statment with multiple row values\n",
    "for row in studenti:\n",
    "    sql += \"('{}','{}','{}'),\".format(row[0], row[1], row[2])\n",
    "\n",
    "sql = sql[:-1]\n",
    "\n",
    "try:\n",
    "  cursor.execute(sql)\n",
    "  db.commit()\n",
    "  print(\"Úspěch\")\n",
    "except Exception as error:\n",
    "  print(f\"Error: {error}\")"
   ]
  },
  {
   "cell_type": "code",
   "execution_count": 33,
   "metadata": {},
   "outputs": [
    {
     "name": "stdout",
     "output_type": "stream",
     "text": [
      "Úspěch\n"
     ]
    }
   ],
   "source": [
    "ucitele = tuple(vygeneruj_nahodne_lidi(10, 25, 80))\n",
    "\n",
    "sql = \"INSERT INTO ucitel (jmeno, prijmeni, vek) VALUES \"\n",
    "\n",
    "# constructing sql statment with multiple row values\n",
    "for row in ucitele:\n",
    "    sql += \"('{}','{}','{}'),\".format(row[0], row[1], row[2])\n",
    "\n",
    "sql = sql[:-1]\n",
    "\n",
    "try:\n",
    "  cursor.execute(sql)\n",
    "  db.commit()\n",
    "  print(\"Úspěch\")\n",
    "except Exception as error:\n",
    "  print(f\"Error: {error}\")"
   ]
  },
  {
   "cell_type": "code",
   "execution_count": null,
   "metadata": {},
   "outputs": [],
   "source": []
  }
 ],
 "metadata": {
  "kernelspec": {
   "display_name": "nase_prostredi",
   "language": "python",
   "name": "python3"
  },
  "language_info": {
   "codemirror_mode": {
    "name": "ipython",
    "version": 3
   },
   "file_extension": ".py",
   "mimetype": "text/x-python",
   "name": "python",
   "nbconvert_exporter": "python",
   "pygments_lexer": "ipython3",
   "version": "3.10.11"
  }
 },
 "nbformat": 4,
 "nbformat_minor": 2
}
