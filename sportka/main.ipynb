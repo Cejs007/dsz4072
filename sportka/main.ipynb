{
 "cells": [
  {
   "cell_type": "code",
   "execution_count": 1,
   "metadata": {},
   "outputs": [],
   "source": [
    "from sportka import vsad_sportku, dokud_nevyhraju"
   ]
  },
  {
   "cell_type": "code",
   "execution_count": null,
   "metadata": {},
   "outputs": [],
   "source": [
    "vsazeno = vsad_sportku()\n",
    "trvani_sec, leta, cena = dokud_nevyhraju(vsazeno)"
   ]
  },
  {
   "cell_type": "code",
   "execution_count": null,
   "metadata": {},
   "outputs": [],
   "source": [
    "\n",
    "print(f\"Losování trvalo {trvani_sec} sekund.\")\n",
    "print(f\"Na výhru bych čekal {leta} let.\")\n",
    "print(f\"Prosázel bych {cena} Kč.\")"
   ]
  }
 ],
 "metadata": {
  "kernelspec": {
   "display_name": "nase_prostredi",
   "language": "python",
   "name": "python3"
  },
  "language_info": {
   "codemirror_mode": {
    "name": "ipython",
    "version": 3
   },
   "file_extension": ".py",
   "mimetype": "text/x-python",
   "name": "python",
   "nbconvert_exporter": "python",
   "pygments_lexer": "ipython3",
   "version": "3.10.11"
  }
 },
 "nbformat": 4,
 "nbformat_minor": 2
}
