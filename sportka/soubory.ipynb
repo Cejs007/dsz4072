{
 "cells": [
  {
   "cell_type": "code",
   "execution_count": 2,
   "metadata": {},
   "outputs": [],
   "source": [
    "import pickle\n",
    "import json\n",
    "import os\n",
    "\n",
    "\n",
    "def nacti_txt(nazev_souboru):\n",
    "    with open(nazev_souboru, \"r\") as soubor:\n",
    "        return soubor.read()\n",
    "\n",
    "\n",
    "def nacti_pkl(nazev_souboru):\n",
    "    with open(nazev_souboru, \"rb\") as soubor:\n",
    "        return pickle.load(soubor)\n",
    "\n",
    "\n",
    "def nacti_json(nazev_souboru):\n",
    "    with open(nazev_souboru, \"r\") as soubor:\n",
    "        return json.load(soubor)\n"
   ]
  },
  {
   "cell_type": "code",
   "execution_count": 7,
   "metadata": {},
   "outputs": [
    {
     "data": {
      "text/plain": [
       "['0.txt',\n",
       " '1.txt',\n",
       " '10.json',\n",
       " '11.json',\n",
       " '12.json',\n",
       " '13.json',\n",
       " '14.json',\n",
       " '2.txt',\n",
       " '3.txt',\n",
       " '4.txt',\n",
       " '5.obj',\n",
       " '6.obj',\n",
       " '7.obj',\n",
       " '8.obj',\n",
       " '9.obj']"
      ]
     },
     "execution_count": 7,
     "metadata": {},
     "output_type": "execute_result"
    }
   ],
   "source": [
    "soubory = os.listdir(\"files\")\n",
    "soubory.sort()\n",
    "soubory"
   ]
  },
  {
   "cell_type": "code",
   "execution_count": 16,
   "metadata": {},
   "outputs": [
    {
     "name": "stdout",
     "output_type": "stream",
     "text": [
      "Python\n",
      "je\n",
      "nejlepší\n",
      "Data\n",
      "Scientist\n",
      "na\n",
      "světe!\n",
      "ten\n",
      "nejlepsi\n",
      "programovací\n",
      "jazyk\n",
      "a\n",
      "já\n",
      "budu\n",
      "ten\n"
     ]
    }
   ],
   "source": [
    "vysledek = list(range(len(soubory)))\n",
    "\n",
    "for soubor_nazev in soubory:\n",
    "    index = int(soubor_nazev.split(\".\")[0])\n",
    "    typ_souboru = soubor_nazev.split(\".\")[-1]\n",
    "    relativni_cesta = \"files\" + os.sep + soubor_nazev\n",
    "    if typ_souboru == \"txt\":\n",
    "        slovo = nacti_txt(relativni_cesta)\n",
    "    elif typ_souboru == \"obj\":\n",
    "        slovo = nacti_pkl(relativni_cesta)\n",
    "    elif typ_souboru == \"json\":\n",
    "        slovo = nacti_json(relativni_cesta)\n",
    "    print(slovo)\n",
    "    vysledek[index] = slovo"
   ]
  },
  {
   "cell_type": "code",
   "execution_count": 18,
   "metadata": {},
   "outputs": [
    {
     "data": {
      "text/plain": [
       "'\\\\'"
      ]
     },
     "execution_count": 18,
     "metadata": {},
     "output_type": "execute_result"
    }
   ],
   "source": [
    "os.sep"
   ]
  },
  {
   "cell_type": "code",
   "execution_count": 19,
   "metadata": {},
   "outputs": [
    {
     "data": {
      "text/plain": [
       "'files\\\\0.txt'"
      ]
     },
     "execution_count": 19,
     "metadata": {},
     "output_type": "execute_result"
    }
   ],
   "source": [
    "\"files\\\\0.txt\""
   ]
  },
  {
   "cell_type": "code",
   "execution_count": null,
   "metadata": {},
   "outputs": [],
   "source": []
  }
 ],
 "metadata": {
  "kernelspec": {
   "display_name": "SazkaEnv",
   "language": "python",
   "name": "python3"
  },
  "language_info": {
   "codemirror_mode": {
    "name": "ipython",
    "version": 3
   },
   "file_extension": ".py",
   "mimetype": "text/x-python",
   "name": "python",
   "nbconvert_exporter": "python",
   "pygments_lexer": "ipython3",
   "version": "3.10.11"
  }
 },
 "nbformat": 4,
 "nbformat_minor": 2
}
